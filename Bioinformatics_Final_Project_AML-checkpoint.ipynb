{
 "cells": [
  {
   "cell_type": "markdown",
   "metadata": {},
   "source": [
    "# Primary Author: Joshua Meigs\n",
    "## Secondary Author/Collaborator: Emma Biggs Lanier"
   ]
  },
  {
   "cell_type": "markdown",
   "metadata": {},
   "source": [
    "## Manage Imports"
   ]
  },
  {
   "cell_type": "code",
   "execution_count": 1,
   "metadata": {},
   "outputs": [],
   "source": [
    "import pandas as pd\n",
    "import matplotlib.pyplot as plt\n",
    "import numpy as np\n",
    "from sklearn import model_selection\n",
    "from sklearn.metrics import classification_report\n",
    "from sklearn.metrics import confusion_matrix\n",
    "from sklearn.metrics import accuracy_score\n",
    "from sklearn.model_selection import cross_val_predict\n",
    "from sklearn.naive_bayes import GaussianNB\n",
    "from sklearn.feature_selection import VarianceThreshold\n",
    "import sys"
   ]
  },
  {
   "cell_type": "code",
   "execution_count": 2,
   "metadata": {},
   "outputs": [
    {
     "data": {
      "text/plain": [
       "'3.7.0 (default, Jun 28 2018, 08:04:48) [MSC v.1912 64 bit (AMD64)]'"
      ]
     },
     "execution_count": 2,
     "metadata": {},
     "output_type": "execute_result"
    }
   ],
   "source": [
    "sys.version"
   ]
  },
  {
   "cell_type": "markdown",
   "metadata": {},
   "source": [
    "## Read in Files and Setup dataframe"
   ]
  },
  {
   "cell_type": "code",
   "execution_count": 3,
   "metadata": {},
   "outputs": [
    {
     "name": "stderr",
     "output_type": "stream",
     "text": [
      "D:\\Programs\\Anaconda\\lib\\site-packages\\IPython\\core\\interactiveshell.py:2785: DtypeWarning: Columns (15,39) have mixed types. Specify dtype option on import or set low_memory=False.\n",
      "  interactivity=interactivity, compiler=compiler, result=result)\n"
     ]
    }
   ],
   "source": [
    "# read data file\n",
    "AML_data = pd.read_csv(\"AML_assay_clinical.csv\")\n",
    "AML_data = AML_data.replace('Unknown', np.float('nan'))\n",
    "columns = ['TARGET USI','Comment','Refractory Timepoint sent for Induction Failure Project', 'data_type','updated_datetime','file_name', 'submitter_id','file_id',\n",
    "           'file_size','id','created_datetime','md5sum','data_format','access','state','data_category','type','experimental_strategy',\n",
    "           'project.project_id','entity_id','case_id','entity_submitter_id', 'entity_type', '__no_feature','__ambiguous','__alignment_not_unique']\n",
    "AML_data.drop(columns, inplace=True, axis=1)"
   ]
  },
  {
   "cell_type": "code",
   "execution_count": 4,
   "metadata": {},
   "outputs": [],
   "source": [
    "AML_data = AML_data.drop(AML_data.columns[0], axis=1)"
   ]
  },
  {
   "cell_type": "markdown",
   "metadata": {},
   "source": [
    "## Display the head of the dataframe to display the data"
   ]
  },
  {
   "cell_type": "code",
   "execution_count": 5,
   "metadata": {},
   "outputs": [
    {
     "data": {
      "text/html": [
       "<div>\n",
       "<style scoped>\n",
       "    .dataframe tbody tr th:only-of-type {\n",
       "        vertical-align: middle;\n",
       "    }\n",
       "\n",
       "    .dataframe tbody tr th {\n",
       "        vertical-align: top;\n",
       "    }\n",
       "\n",
       "    .dataframe thead th {\n",
       "        text-align: right;\n",
       "    }\n",
       "</style>\n",
       "<table border=\"1\" class=\"dataframe\">\n",
       "  <thead>\n",
       "    <tr style=\"text-align: right;\">\n",
       "      <th></th>\n",
       "      <th>Diagnostic ID</th>\n",
       "      <th>Gender</th>\n",
       "      <th>Race</th>\n",
       "      <th>Ethnicity</th>\n",
       "      <th>Age at Diagnosis in Days</th>\n",
       "      <th>First Event</th>\n",
       "      <th>Event Free Survival Time in Days</th>\n",
       "      <th>Vital Status</th>\n",
       "      <th>Overall Survival Time in Days</th>\n",
       "      <th>Year of Diagnosis</th>\n",
       "      <th>...</th>\n",
       "      <th>ENSG00000281555.1</th>\n",
       "      <th>ENSG00000281571.1</th>\n",
       "      <th>ENSG00000281628.1</th>\n",
       "      <th>ENSG00000281649.1</th>\n",
       "      <th>ENSG00000281691.1</th>\n",
       "      <th>ENSG00000281706.1</th>\n",
       "      <th>ENSG00000281741.1</th>\n",
       "      <th>ENSG00000281789.1</th>\n",
       "      <th>ENSG00000281896.1</th>\n",
       "      <th>ENSG00000281912.1</th>\n",
       "    </tr>\n",
       "  </thead>\n",
       "  <tbody>\n",
       "    <tr>\n",
       "      <th>0</th>\n",
       "      <td>04A</td>\n",
       "      <td>Female</td>\n",
       "      <td>White</td>\n",
       "      <td>Not Hispanic or Latino</td>\n",
       "      <td>2455</td>\n",
       "      <td>Relapse</td>\n",
       "      <td>714</td>\n",
       "      <td>Alive</td>\n",
       "      <td>721</td>\n",
       "      <td>1997</td>\n",
       "      <td>...</td>\n",
       "      <td>-6.927145</td>\n",
       "      <td>-5.407333</td>\n",
       "      <td>-0.130331</td>\n",
       "      <td>5.486997</td>\n",
       "      <td>-0.834782</td>\n",
       "      <td>-1.296158</td>\n",
       "      <td>-5.407333</td>\n",
       "      <td>-0.256885</td>\n",
       "      <td>1.024227</td>\n",
       "      <td>-3.844758</td>\n",
       "    </tr>\n",
       "    <tr>\n",
       "      <th>1</th>\n",
       "      <td>04A</td>\n",
       "      <td>Male</td>\n",
       "      <td>White</td>\n",
       "      <td>Not Hispanic or Latino</td>\n",
       "      <td>1159</td>\n",
       "      <td>Relapse</td>\n",
       "      <td>373</td>\n",
       "      <td>Dead</td>\n",
       "      <td>585</td>\n",
       "      <td>1996</td>\n",
       "      <td>...</td>\n",
       "      <td>-3.215621</td>\n",
       "      <td>-0.773714</td>\n",
       "      <td>-1.753588</td>\n",
       "      <td>5.981757</td>\n",
       "      <td>0.545861</td>\n",
       "      <td>-2.077616</td>\n",
       "      <td>-1.572028</td>\n",
       "      <td>-2.077616</td>\n",
       "      <td>2.026762</td>\n",
       "      <td>-2.342754</td>\n",
       "    </tr>\n",
       "    <tr>\n",
       "      <th>2</th>\n",
       "      <td>09A</td>\n",
       "      <td>Male</td>\n",
       "      <td>White</td>\n",
       "      <td>Not Hispanic or Latino</td>\n",
       "      <td>1159</td>\n",
       "      <td>Relapse</td>\n",
       "      <td>373</td>\n",
       "      <td>Dead</td>\n",
       "      <td>585</td>\n",
       "      <td>1996</td>\n",
       "      <td>...</td>\n",
       "      <td>-2.279145</td>\n",
       "      <td>1.501164</td>\n",
       "      <td>0.028646</td>\n",
       "      <td>6.877301</td>\n",
       "      <td>1.096532</td>\n",
       "      <td>-2.710611</td>\n",
       "      <td>-1.947448</td>\n",
       "      <td>-1.421239</td>\n",
       "      <td>2.485413</td>\n",
       "      <td>-2.448536</td>\n",
       "    </tr>\n",
       "    <tr>\n",
       "      <th>3</th>\n",
       "      <td>09A</td>\n",
       "      <td>Female</td>\n",
       "      <td>NaN</td>\n",
       "      <td>Not Hispanic or Latino</td>\n",
       "      <td>5325</td>\n",
       "      <td>Relapse</td>\n",
       "      <td>314</td>\n",
       "      <td>Dead</td>\n",
       "      <td>536</td>\n",
       "      <td>1996</td>\n",
       "      <td>...</td>\n",
       "      <td>-1.780950</td>\n",
       "      <td>0.132623</td>\n",
       "      <td>-0.682824</td>\n",
       "      <td>5.465605</td>\n",
       "      <td>-0.330849</td>\n",
       "      <td>-1.843229</td>\n",
       "      <td>-0.801464</td>\n",
       "      <td>-0.364707</td>\n",
       "      <td>2.164604</td>\n",
       "      <td>-0.152689</td>\n",
       "    </tr>\n",
       "    <tr>\n",
       "      <th>4</th>\n",
       "      <td>04A</td>\n",
       "      <td>Female</td>\n",
       "      <td>NaN</td>\n",
       "      <td>Not Hispanic or Latino</td>\n",
       "      <td>5325</td>\n",
       "      <td>Relapse</td>\n",
       "      <td>314</td>\n",
       "      <td>Dead</td>\n",
       "      <td>536</td>\n",
       "      <td>1996</td>\n",
       "      <td>...</td>\n",
       "      <td>-2.735957</td>\n",
       "      <td>0.002064</td>\n",
       "      <td>-1.534493</td>\n",
       "      <td>4.989745</td>\n",
       "      <td>1.008904</td>\n",
       "      <td>-2.298227</td>\n",
       "      <td>-1.264844</td>\n",
       "      <td>0.362001</td>\n",
       "      <td>2.474975</td>\n",
       "      <td>-1.534493</td>\n",
       "    </tr>\n",
       "  </tbody>\n",
       "</table>\n",
       "<p>5 rows × 21465 columns</p>\n",
       "</div>"
      ],
      "text/plain": [
       "  Diagnostic ID  Gender   Race               Ethnicity  \\\n",
       "0           04A  Female  White  Not Hispanic or Latino   \n",
       "1           04A    Male  White  Not Hispanic or Latino   \n",
       "2           09A    Male  White  Not Hispanic or Latino   \n",
       "3           09A  Female    NaN  Not Hispanic or Latino   \n",
       "4           04A  Female    NaN  Not Hispanic or Latino   \n",
       "\n",
       "   Age at Diagnosis in Days First Event  Event Free Survival Time in Days  \\\n",
       "0                      2455     Relapse                               714   \n",
       "1                      1159     Relapse                               373   \n",
       "2                      1159     Relapse                               373   \n",
       "3                      5325     Relapse                               314   \n",
       "4                      5325     Relapse                               314   \n",
       "\n",
       "  Vital Status  Overall Survival Time in Days  Year of Diagnosis  \\\n",
       "0        Alive                            721               1997   \n",
       "1         Dead                            585               1996   \n",
       "2         Dead                            585               1996   \n",
       "3         Dead                            536               1996   \n",
       "4         Dead                            536               1996   \n",
       "\n",
       "         ...         ENSG00000281555.1 ENSG00000281571.1  ENSG00000281628.1  \\\n",
       "0        ...                 -6.927145         -5.407333          -0.130331   \n",
       "1        ...                 -3.215621         -0.773714          -1.753588   \n",
       "2        ...                 -2.279145          1.501164           0.028646   \n",
       "3        ...                 -1.780950          0.132623          -0.682824   \n",
       "4        ...                 -2.735957          0.002064          -1.534493   \n",
       "\n",
       "  ENSG00000281649.1  ENSG00000281691.1 ENSG00000281706.1 ENSG00000281741.1  \\\n",
       "0          5.486997          -0.834782         -1.296158         -5.407333   \n",
       "1          5.981757           0.545861         -2.077616         -1.572028   \n",
       "2          6.877301           1.096532         -2.710611         -1.947448   \n",
       "3          5.465605          -0.330849         -1.843229         -0.801464   \n",
       "4          4.989745           1.008904         -2.298227         -1.264844   \n",
       "\n",
       "  ENSG00000281789.1 ENSG00000281896.1 ENSG00000281912.1  \n",
       "0         -0.256885          1.024227         -3.844758  \n",
       "1         -2.077616          2.026762         -2.342754  \n",
       "2         -1.421239          2.485413         -2.448536  \n",
       "3         -0.364707          2.164604         -0.152689  \n",
       "4          0.362001          2.474975         -1.534493  \n",
       "\n",
       "[5 rows x 21465 columns]"
      ]
     },
     "execution_count": 5,
     "metadata": {},
     "output_type": "execute_result"
    }
   ],
   "source": [
    "AML_data.head()"
   ]
  },
  {
   "cell_type": "code",
   "execution_count": 6,
   "metadata": {},
   "outputs": [
    {
     "data": {
      "text/plain": [
       "(187, 21465)"
      ]
     },
     "execution_count": 6,
     "metadata": {},
     "output_type": "execute_result"
    }
   ],
   "source": [
    "# show dimensions of AML_data\n",
    "AML_data.shape"
   ]
  },
  {
   "cell_type": "markdown",
   "metadata": {},
   "source": [
    "## Start process to convert non-numeric data into numeric data"
   ]
  },
  {
   "cell_type": "code",
   "execution_count": 7,
   "metadata": {},
   "outputs": [],
   "source": [
    "object_data = AML_data.describe(include=['object'])\n",
    "cols = list(object_data)"
   ]
  },
  {
   "cell_type": "code",
   "execution_count": 8,
   "metadata": {},
   "outputs": [
    {
     "data": {
      "text/html": [
       "<div>\n",
       "<style scoped>\n",
       "    .dataframe tbody tr th:only-of-type {\n",
       "        vertical-align: middle;\n",
       "    }\n",
       "\n",
       "    .dataframe tbody tr th {\n",
       "        vertical-align: top;\n",
       "    }\n",
       "\n",
       "    .dataframe thead th {\n",
       "        text-align: right;\n",
       "    }\n",
       "</style>\n",
       "<table border=\"1\" class=\"dataframe\">\n",
       "  <thead>\n",
       "    <tr style=\"text-align: right;\">\n",
       "      <th></th>\n",
       "      <th>Diagnostic ID</th>\n",
       "      <th>Gender</th>\n",
       "      <th>Race</th>\n",
       "      <th>Ethnicity</th>\n",
       "      <th>Age at Diagnosis in Days</th>\n",
       "      <th>First Event</th>\n",
       "      <th>Event Free Survival Time in Days</th>\n",
       "      <th>Vital Status</th>\n",
       "      <th>Overall Survival Time in Days</th>\n",
       "      <th>Year of Diagnosis</th>\n",
       "      <th>...</th>\n",
       "      <th>ENSG00000281555.1</th>\n",
       "      <th>ENSG00000281571.1</th>\n",
       "      <th>ENSG00000281628.1</th>\n",
       "      <th>ENSG00000281649.1</th>\n",
       "      <th>ENSG00000281691.1</th>\n",
       "      <th>ENSG00000281706.1</th>\n",
       "      <th>ENSG00000281741.1</th>\n",
       "      <th>ENSG00000281789.1</th>\n",
       "      <th>ENSG00000281896.1</th>\n",
       "      <th>ENSG00000281912.1</th>\n",
       "    </tr>\n",
       "  </thead>\n",
       "  <tbody>\n",
       "    <tr>\n",
       "      <th>0</th>\n",
       "      <td>1</td>\n",
       "      <td>0</td>\n",
       "      <td>5</td>\n",
       "      <td>1</td>\n",
       "      <td>2455</td>\n",
       "      <td>3</td>\n",
       "      <td>714</td>\n",
       "      <td>0</td>\n",
       "      <td>721</td>\n",
       "      <td>1997</td>\n",
       "      <td>...</td>\n",
       "      <td>-6.927145</td>\n",
       "      <td>-5.407333</td>\n",
       "      <td>-0.130331</td>\n",
       "      <td>5.486997</td>\n",
       "      <td>-0.834782</td>\n",
       "      <td>-1.296158</td>\n",
       "      <td>-5.407333</td>\n",
       "      <td>-0.256885</td>\n",
       "      <td>1.024227</td>\n",
       "      <td>-3.844758</td>\n",
       "    </tr>\n",
       "    <tr>\n",
       "      <th>1</th>\n",
       "      <td>1</td>\n",
       "      <td>1</td>\n",
       "      <td>5</td>\n",
       "      <td>1</td>\n",
       "      <td>1159</td>\n",
       "      <td>3</td>\n",
       "      <td>373</td>\n",
       "      <td>1</td>\n",
       "      <td>585</td>\n",
       "      <td>1996</td>\n",
       "      <td>...</td>\n",
       "      <td>-3.215621</td>\n",
       "      <td>-0.773714</td>\n",
       "      <td>-1.753588</td>\n",
       "      <td>5.981757</td>\n",
       "      <td>0.545861</td>\n",
       "      <td>-2.077616</td>\n",
       "      <td>-1.572028</td>\n",
       "      <td>-2.077616</td>\n",
       "      <td>2.026762</td>\n",
       "      <td>-2.342754</td>\n",
       "    </tr>\n",
       "    <tr>\n",
       "      <th>2</th>\n",
       "      <td>2</td>\n",
       "      <td>1</td>\n",
       "      <td>5</td>\n",
       "      <td>1</td>\n",
       "      <td>1159</td>\n",
       "      <td>3</td>\n",
       "      <td>373</td>\n",
       "      <td>1</td>\n",
       "      <td>585</td>\n",
       "      <td>1996</td>\n",
       "      <td>...</td>\n",
       "      <td>-2.279145</td>\n",
       "      <td>1.501164</td>\n",
       "      <td>0.028646</td>\n",
       "      <td>6.877301</td>\n",
       "      <td>1.096532</td>\n",
       "      <td>-2.710611</td>\n",
       "      <td>-1.947448</td>\n",
       "      <td>-1.421239</td>\n",
       "      <td>2.485413</td>\n",
       "      <td>-2.448536</td>\n",
       "    </tr>\n",
       "    <tr>\n",
       "      <th>3</th>\n",
       "      <td>2</td>\n",
       "      <td>0</td>\n",
       "      <td>-1</td>\n",
       "      <td>1</td>\n",
       "      <td>5325</td>\n",
       "      <td>3</td>\n",
       "      <td>314</td>\n",
       "      <td>1</td>\n",
       "      <td>536</td>\n",
       "      <td>1996</td>\n",
       "      <td>...</td>\n",
       "      <td>-1.780950</td>\n",
       "      <td>0.132623</td>\n",
       "      <td>-0.682824</td>\n",
       "      <td>5.465605</td>\n",
       "      <td>-0.330849</td>\n",
       "      <td>-1.843229</td>\n",
       "      <td>-0.801464</td>\n",
       "      <td>-0.364707</td>\n",
       "      <td>2.164604</td>\n",
       "      <td>-0.152689</td>\n",
       "    </tr>\n",
       "    <tr>\n",
       "      <th>4</th>\n",
       "      <td>1</td>\n",
       "      <td>0</td>\n",
       "      <td>-1</td>\n",
       "      <td>1</td>\n",
       "      <td>5325</td>\n",
       "      <td>3</td>\n",
       "      <td>314</td>\n",
       "      <td>1</td>\n",
       "      <td>536</td>\n",
       "      <td>1996</td>\n",
       "      <td>...</td>\n",
       "      <td>-2.735957</td>\n",
       "      <td>0.002064</td>\n",
       "      <td>-1.534493</td>\n",
       "      <td>4.989745</td>\n",
       "      <td>1.008904</td>\n",
       "      <td>-2.298227</td>\n",
       "      <td>-1.264844</td>\n",
       "      <td>0.362001</td>\n",
       "      <td>2.474975</td>\n",
       "      <td>-1.534493</td>\n",
       "    </tr>\n",
       "  </tbody>\n",
       "</table>\n",
       "<p>5 rows × 21465 columns</p>\n",
       "</div>"
      ],
      "text/plain": [
       "   Diagnostic ID  Gender  Race  Ethnicity  Age at Diagnosis in Days  \\\n",
       "0              1       0     5          1                      2455   \n",
       "1              1       1     5          1                      1159   \n",
       "2              2       1     5          1                      1159   \n",
       "3              2       0    -1          1                      5325   \n",
       "4              1       0    -1          1                      5325   \n",
       "\n",
       "   First Event  Event Free Survival Time in Days  Vital Status  \\\n",
       "0            3                               714             0   \n",
       "1            3                               373             1   \n",
       "2            3                               373             1   \n",
       "3            3                               314             1   \n",
       "4            3                               314             1   \n",
       "\n",
       "   Overall Survival Time in Days  Year of Diagnosis        ...          \\\n",
       "0                            721               1997        ...           \n",
       "1                            585               1996        ...           \n",
       "2                            585               1996        ...           \n",
       "3                            536               1996        ...           \n",
       "4                            536               1996        ...           \n",
       "\n",
       "   ENSG00000281555.1  ENSG00000281571.1  ENSG00000281628.1  ENSG00000281649.1  \\\n",
       "0          -6.927145          -5.407333          -0.130331           5.486997   \n",
       "1          -3.215621          -0.773714          -1.753588           5.981757   \n",
       "2          -2.279145           1.501164           0.028646           6.877301   \n",
       "3          -1.780950           0.132623          -0.682824           5.465605   \n",
       "4          -2.735957           0.002064          -1.534493           4.989745   \n",
       "\n",
       "   ENSG00000281691.1  ENSG00000281706.1  ENSG00000281741.1  ENSG00000281789.1  \\\n",
       "0          -0.834782          -1.296158          -5.407333          -0.256885   \n",
       "1           0.545861          -2.077616          -1.572028          -2.077616   \n",
       "2           1.096532          -2.710611          -1.947448          -1.421239   \n",
       "3          -0.330849          -1.843229          -0.801464          -0.364707   \n",
       "4           1.008904          -2.298227          -1.264844           0.362001   \n",
       "\n",
       "   ENSG00000281896.1  ENSG00000281912.1  \n",
       "0           1.024227          -3.844758  \n",
       "1           2.026762          -2.342754  \n",
       "2           2.485413          -2.448536  \n",
       "3           2.164604          -0.152689  \n",
       "4           2.474975          -1.534493  \n",
       "\n",
       "[5 rows x 21465 columns]"
      ]
     },
     "execution_count": 8,
     "metadata": {},
     "output_type": "execute_result"
    }
   ],
   "source": [
    "for col in cols:\n",
    "    AML_data[col] = AML_data[col].astype('category').cat.codes\n",
    "AML_data.head()"
   ]
  },
  {
   "cell_type": "code",
   "execution_count": 9,
   "metadata": {},
   "outputs": [
    {
     "data": {
      "text/plain": [
       "(187, 21465)"
      ]
     },
     "execution_count": 9,
     "metadata": {},
     "output_type": "execute_result"
    }
   ],
   "source": [
    "AML_data.shape"
   ]
  },
  {
   "cell_type": "markdown",
   "metadata": {},
   "source": [
    "## Combine Risk Groups, where the High Risk and Standard are 0, and Low Risk is 1"
   ]
  },
  {
   "cell_type": "code",
   "execution_count": 10,
   "metadata": {},
   "outputs": [],
   "source": [
    "AML_data['Risk group'] = AML_data['Risk group'].replace(1,0)"
   ]
  },
  {
   "cell_type": "code",
   "execution_count": 11,
   "metadata": {},
   "outputs": [],
   "source": [
    "AML_data['Risk group'] = AML_data['Risk group'].replace(2,1)"
   ]
  },
  {
   "cell_type": "code",
   "execution_count": 12,
   "metadata": {},
   "outputs": [
    {
     "name": "stdout",
     "output_type": "stream",
     "text": [
      "Risk group\n",
      "-1    10\n",
      " 0    84\n",
      " 1    93\n",
      "dtype: int64\n"
     ]
    }
   ],
   "source": [
    "print(AML_data.groupby('Risk group').size())"
   ]
  },
  {
   "cell_type": "code",
   "execution_count": 13,
   "metadata": {},
   "outputs": [],
   "source": [
    "#Remove \"Unknown\" rows\n",
    "AML_data = AML_data[AML_data[\"Risk group\"] != -1]"
   ]
  },
  {
   "cell_type": "code",
   "execution_count": 14,
   "metadata": {},
   "outputs": [
    {
     "name": "stdout",
     "output_type": "stream",
     "text": [
      "Risk group\n",
      "0    84\n",
      "1    93\n",
      "dtype: int64\n"
     ]
    }
   ],
   "source": [
    "#Display Risk Groups again\n",
    "print(AML_data.groupby('Risk group').size())"
   ]
  },
  {
   "cell_type": "code",
   "execution_count": 15,
   "metadata": {},
   "outputs": [],
   "source": [
    "# move Risk Group (the column to be predicted) to be the last column in the data frame\n",
    "riskGroup_column = AML_data.pop('Risk group')\n",
    "AML_data['Risk group'] = riskGroup_column"
   ]
  },
  {
   "cell_type": "markdown",
   "metadata": {},
   "source": [
    "## Replace missing values within the dataframe with -1"
   ]
  },
  {
   "cell_type": "code",
   "execution_count": 16,
   "metadata": {},
   "outputs": [
    {
     "data": {
      "text/plain": [
       "True"
      ]
     },
     "execution_count": 16,
     "metadata": {},
     "output_type": "execute_result"
    }
   ],
   "source": [
    "#Check if any Values are missing or null\n",
    "np.any(np.isnan(AML_data))"
   ]
  },
  {
   "cell_type": "code",
   "execution_count": 17,
   "metadata": {},
   "outputs": [],
   "source": [
    "#Replace the missing or null values with -1\n",
    "AML_data=AML_data.fillna(-1)"
   ]
  },
  {
   "cell_type": "code",
   "execution_count": 18,
   "metadata": {},
   "outputs": [
    {
     "data": {
      "text/plain": [
       "False"
      ]
     },
     "execution_count": 18,
     "metadata": {},
     "output_type": "execute_result"
    }
   ],
   "source": [
    "#Check if any Values are missing or null once more\n",
    "np.any(np.isnan(AML_data))"
   ]
  },
  {
   "cell_type": "markdown",
   "metadata": {},
   "source": [
    "## Set up data for Feature Selection and Without Feature Selection"
   ]
  },
  {
   "cell_type": "code",
   "execution_count": 19,
   "metadata": {},
   "outputs": [],
   "source": [
    "# Convert the dataframe to be numeric\n",
    "AML_data = AML_data.apply(pd.to_numeric)\n",
    "# separate out validation data set\n",
    "AML_array = AML_data.values\n",
    "#Only look at genes for prediction\n",
    "X = AML_array[:,60:21464]\n",
    "Y = AML_array[:,21464]"
   ]
  },
  {
   "cell_type": "code",
   "execution_count": 20,
   "metadata": {},
   "outputs": [],
   "source": [
    "#The Model that will be used\n",
    "model = GaussianNB()"
   ]
  },
  {
   "cell_type": "markdown",
   "metadata": {},
   "source": [
    "## Feature Selection"
   ]
  },
  {
   "cell_type": "code",
   "execution_count": 21,
   "metadata": {},
   "outputs": [],
   "source": [
    "#create the Variance threshold in which the features will have to meet\n",
    "varianceThreshold = VarianceThreshold(threshold=(1.5))"
   ]
  },
  {
   "cell_type": "code",
   "execution_count": 22,
   "metadata": {},
   "outputs": [],
   "source": [
    "#Fit the data and transform based on the variance of the features\n",
    "featureSelectedX = varianceThreshold.fit_transform(X)"
   ]
  },
  {
   "cell_type": "code",
   "execution_count": 23,
   "metadata": {},
   "outputs": [
    {
     "data": {
      "text/plain": [
       "(177, 10085)"
      ]
     },
     "execution_count": 23,
     "metadata": {},
     "output_type": "execute_result"
    }
   ],
   "source": [
    "#Display the shape of the transformed dataset\n",
    "featureSelectedX.shape"
   ]
  },
  {
   "cell_type": "code",
   "execution_count": 24,
   "metadata": {},
   "outputs": [
    {
     "data": {
      "text/plain": [
       "(177, 21404)"
      ]
     },
     "execution_count": 24,
     "metadata": {},
     "output_type": "execute_result"
    }
   ],
   "source": [
    "#Show the original shape of the dataframe\n",
    "X.shape"
   ]
  },
  {
   "cell_type": "markdown",
   "metadata": {},
   "source": [
    "## Setup prediction for no KFold Cross Validation with feature Selection"
   ]
  },
  {
   "cell_type": "code",
   "execution_count": 25,
   "metadata": {},
   "outputs": [],
   "source": [
    "# Split the X and Y into train and test sections\n",
    "X_train, X_validation, Y_train, Y_validation = model_selection.train_test_split(featureSelectedX, Y, test_size=0.2, random_state=5)"
   ]
  },
  {
   "cell_type": "code",
   "execution_count": 26,
   "metadata": {},
   "outputs": [
    {
     "data": {
      "text/plain": [
       "(141, 10085)"
      ]
     },
     "execution_count": 26,
     "metadata": {},
     "output_type": "execute_result"
    }
   ],
   "source": [
    "X_train.shape"
   ]
  },
  {
   "cell_type": "code",
   "execution_count": 27,
   "metadata": {},
   "outputs": [
    {
     "name": "stdout",
     "output_type": "stream",
     "text": [
      "0.9166666666666666\n",
      "             precision    recall  f1-score   support\n",
      "\n",
      "        0.0       0.88      0.94      0.91        16\n",
      "        1.0       0.95      0.90      0.92        20\n",
      "\n",
      "avg / total       0.92      0.92      0.92        36\n",
      "\n"
     ]
    }
   ],
   "source": [
    "model.fit(X_train, Y_train)\n",
    "predictions = model.predict(X_validation)\n",
    "print(accuracy_score(Y_validation, predictions))\n",
    "print(classification_report(Y_validation, predictions))"
   ]
  },
  {
   "cell_type": "markdown",
   "metadata": {},
   "source": [
    "## Setup prediction for KFold Cross Validation with feature Selection"
   ]
  },
  {
   "cell_type": "code",
   "execution_count": 28,
   "metadata": {},
   "outputs": [
    {
     "name": "stdout",
     "output_type": "stream",
     "text": [
      "0.864406779661017\n",
      "             precision    recall  f1-score   support\n",
      "\n",
      "        0.0       0.88      0.82      0.85        84\n",
      "        1.0       0.85      0.90      0.88        93\n",
      "\n",
      "avg / total       0.87      0.86      0.86       177\n",
      "\n"
     ]
    }
   ],
   "source": [
    "predictions = cross_val_predict(model, featureSelectedX, Y, cv=10)\n",
    "print(accuracy_score(Y, predictions))\n",
    "print(classification_report(Y, predictions))"
   ]
  },
  {
   "cell_type": "markdown",
   "metadata": {},
   "source": [
    "## No Feature Selection "
   ]
  },
  {
   "cell_type": "code",
   "execution_count": 29,
   "metadata": {},
   "outputs": [],
   "source": [
    "#Split the X and Y into train and test sections\n",
    "X_train, X_validation, Y_train, Y_validation = model_selection.train_test_split(X, Y, test_size=0.2, random_state=5)"
   ]
  },
  {
   "cell_type": "markdown",
   "metadata": {},
   "source": [
    "## Setup prediction for no KFold Cross Validation without feature Selection"
   ]
  },
  {
   "cell_type": "code",
   "execution_count": 30,
   "metadata": {},
   "outputs": [
    {
     "name": "stdout",
     "output_type": "stream",
     "text": [
      "0.75\n",
      "             precision    recall  f1-score   support\n",
      "\n",
      "        0.0       0.71      0.75      0.73        16\n",
      "        1.0       0.79      0.75      0.77        20\n",
      "\n",
      "avg / total       0.75      0.75      0.75        36\n",
      "\n"
     ]
    }
   ],
   "source": [
    "model.fit(X_train, Y_train)\n",
    "predictions = model.predict(X_validation)\n",
    "print(accuracy_score(Y_validation, predictions))\n",
    "print(classification_report(Y_validation, predictions))"
   ]
  },
  {
   "cell_type": "markdown",
   "metadata": {},
   "source": [
    "## Setup prediction for KFold Cross Validation without feature Selection"
   ]
  },
  {
   "cell_type": "code",
   "execution_count": 31,
   "metadata": {},
   "outputs": [
    {
     "name": "stdout",
     "output_type": "stream",
     "text": [
      "0.8248587570621468\n",
      "             precision    recall  f1-score   support\n",
      "\n",
      "        0.0       0.85      0.76      0.81        84\n",
      "        1.0       0.80      0.88      0.84        93\n",
      "\n",
      "avg / total       0.83      0.82      0.82       177\n",
      "\n"
     ]
    }
   ],
   "source": [
    "predictions = cross_val_predict(model, X, Y, cv=10)\n",
    "print(accuracy_score(Y, predictions))\n",
    "print(classification_report(Y, predictions))"
   ]
  },
  {
   "cell_type": "markdown",
   "metadata": {},
   "source": [
    "### Find the Most Variant Genes"
   ]
  },
  {
   "cell_type": "code",
   "execution_count": 32,
   "metadata": {},
   "outputs": [],
   "source": [
    "colName = list(AML_data)\n",
    "dataFrameWithOnlyGenes = AML_data\n",
    "colName = list(AML_data)\n",
    "#Drop first 60 Columns to find just Genes\n",
    "for i in range(0,60):\n",
    "    currName = colName[i]\n",
    "    dataFrameWithOnlyGenes = dataFrameWithOnlyGenes.drop(columns=[currName], axis = 1)"
   ]
  },
  {
   "cell_type": "code",
   "execution_count": 33,
   "metadata": {},
   "outputs": [],
   "source": [
    "sortedValues = (dataFrameWithOnlyGenes.var()).sort_values(ascending = False);"
   ]
  },
  {
   "cell_type": "markdown",
   "metadata": {},
   "source": [
    "## The Highest 10 Variance Genes"
   ]
  },
  {
   "cell_type": "code",
   "execution_count": 34,
   "metadata": {},
   "outputs": [
    {
     "name": "stdout",
     "output_type": "stream",
     "text": [
      "1 . Gene:  ENSG00000129824.14 -- Value:  35.01208815792242\n",
      "2 . Gene:  ENSG00000229807.8 -- Value:  29.539249325504752\n",
      "3 . Gene:  ENSG00000067048.15 -- Value:  27.57351061822974\n",
      "4 . Gene:  ENSG00000012817.14 -- Value:  27.33749523133291\n",
      "5 . Gene:  ENSG00000198692.8 -- Value:  26.089880214096716\n",
      "6 . Gene:  ENSG00000131002.10 -- Value:  25.71226694976751\n",
      "7 . Gene:  ENSG00000233864.6 -- Value:  23.61239836920313\n",
      "8 . Gene:  ENSG00000183878.14 -- Value:  23.609385125834397\n",
      "9 . Gene:  ENSG00000067646.10 -- Value:  23.419009241725636\n",
      "10 . Gene:  ENSG00000125869.8 -- Value:  21.79560205718873\n",
      "11 . Gene:  ENSG00000102854.13 -- Value:  21.78461529394099\n"
     ]
    }
   ],
   "source": [
    "for i in range(0,11):\n",
    "    gene = sortedValues[i:(i+1)].index[0]\n",
    "    value = sortedValues[i:(i+1)][0]\n",
    "    print((i+1),\". Gene: \",gene,\"-- Value: \",value)"
   ]
  }
 ],
 "metadata": {
  "kernelspec": {
   "display_name": "Python 3",
   "language": "python",
   "name": "python3"
  },
  "language_info": {
   "codemirror_mode": {
    "name": "ipython",
    "version": 3
   },
   "file_extension": ".py",
   "mimetype": "text/x-python",
   "name": "python",
   "nbconvert_exporter": "python",
   "pygments_lexer": "ipython3",
   "version": "3.7.0"
  }
 },
 "nbformat": 4,
 "nbformat_minor": 2
}
